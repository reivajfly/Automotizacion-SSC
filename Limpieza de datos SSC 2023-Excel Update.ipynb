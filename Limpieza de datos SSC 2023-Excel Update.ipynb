{
 "cells": [
  {
   "cell_type": "code",
   "execution_count": null,
   "metadata": {},
   "outputs": [],
   "source": []
  },
  {
   "cell_type": "markdown",
   "metadata": {},
   "source": [
    "ACTUALIZACIÓN SERVICIO SOCIAL COMUNITARIO"
   ]
  },
  {
   "cell_type": "code",
   "execution_count": 1,
   "metadata": {},
   "outputs": [],
   "source": [
    "# Importación de las bibliotecas necesarias\n",
    "import pandas as pd\n",
    "import numpy as np\n",
    "import time\n",
    "from datetime import date\n",
    "import mysql.connector\n",
    "from mysql.connector import errorcode\n",
    "import seaborn as sns\n"
   ]
  },
  {
   "cell_type": "code",
   "execution_count": 2,
   "metadata": {
    "scrolled": false
   },
   "outputs": [
    {
     "name": "stdout",
     "output_type": "stream",
     "text": [
      "Usuarios que han ingresado al curso: (3158, 8)\n"
     ]
    },
    {
     "data": {
      "text/html": [
       "<div>\n",
       "<style scoped>\n",
       "    .dataframe tbody tr th:only-of-type {\n",
       "        vertical-align: middle;\n",
       "    }\n",
       "\n",
       "    .dataframe tbody tr th {\n",
       "        vertical-align: top;\n",
       "    }\n",
       "\n",
       "    .dataframe thead th {\n",
       "        text-align: right;\n",
       "    }\n",
       "</style>\n",
       "<table border=\"1\" class=\"dataframe\">\n",
       "  <thead>\n",
       "    <tr style=\"text-align: right;\">\n",
       "      <th></th>\n",
       "      <th>userId</th>\n",
       "      <th>username</th>\n",
       "      <th>firstname</th>\n",
       "      <th>lastname</th>\n",
       "      <th>email</th>\n",
       "      <th>city</th>\n",
       "      <th>description</th>\n",
       "      <th>lst_access</th>\n",
       "    </tr>\n",
       "  </thead>\n",
       "  <tbody>\n",
       "    <tr>\n",
       "      <th>0</th>\n",
       "      <td>2</td>\n",
       "      <td>user</td>\n",
       "      <td>Santander</td>\n",
       "      <td>Skills</td>\n",
       "      <td>sistemas@fese.org.mx</td>\n",
       "      <td>CIUDAD DE México</td>\n",
       "      <td></td>\n",
       "      <td>2023-10-05 19:20:58</td>\n",
       "    </tr>\n",
       "    <tr>\n",
       "      <th>1</th>\n",
       "      <td>137248</td>\n",
       "      <td>co488798@uaeh.edu.mx</td>\n",
       "      <td>MARÍA JOSÉ</td>\n",
       "      <td>CORTES FLORES</td>\n",
       "      <td>co488798@uaeh.edu.mx</td>\n",
       "      <td>Hidalgo</td>\n",
       "      <td>MX - UAEH - Universidad Autónoma del Estado de...</td>\n",
       "      <td>2023-02-10 22:55:09</td>\n",
       "    </tr>\n",
       "    <tr>\n",
       "      <th>2</th>\n",
       "      <td>137241</td>\n",
       "      <td>prodriguezmendiola@gmail.com</td>\n",
       "      <td>Pablo</td>\n",
       "      <td>Rodríguez Mendiola</td>\n",
       "      <td>prodriguezmendiola@gmail.com</td>\n",
       "      <td>Veracruz</td>\n",
       "      <td>MX - UPAV - Universidad Popular Autónoma de Ve...</td>\n",
       "      <td>2023-12-01 02:07:28</td>\n",
       "    </tr>\n",
       "    <tr>\n",
       "      <th>3</th>\n",
       "      <td>137272</td>\n",
       "      <td>tonyrito.lol@gmail.com</td>\n",
       "      <td>Antonio</td>\n",
       "      <td>De Santiago</td>\n",
       "      <td>tonyrito.lol@gmail.com</td>\n",
       "      <td>Chihuahua</td>\n",
       "      <td>MX - UACJ - Universidad Autónoma de Ciudad Juárez</td>\n",
       "      <td>2023-02-11 03:24:49</td>\n",
       "    </tr>\n",
       "    <tr>\n",
       "      <th>4</th>\n",
       "      <td>137238</td>\n",
       "      <td>vianeyblas33@gmail.com</td>\n",
       "      <td>Daniela Vianey</td>\n",
       "      <td>Blas Juárez</td>\n",
       "      <td>vianeyblas33@gmail.com</td>\n",
       "      <td>Oaxaca</td>\n",
       "      <td>MX - Universidad La Salle Oaxaca</td>\n",
       "      <td>2023-02-17 16:48:25</td>\n",
       "    </tr>\n",
       "  </tbody>\n",
       "</table>\n",
       "</div>"
      ],
      "text/plain": [
       "   userId                      username       firstname            lastname  \\\n",
       "0       2                          user       Santander              Skills   \n",
       "1  137248          co488798@uaeh.edu.mx      MARÍA JOSÉ       CORTES FLORES   \n",
       "2  137241  prodriguezmendiola@gmail.com           Pablo  Rodríguez Mendiola   \n",
       "3  137272        tonyrito.lol@gmail.com         Antonio         De Santiago   \n",
       "4  137238        vianeyblas33@gmail.com  Daniela Vianey         Blas Juárez   \n",
       "\n",
       "                          email              city  \\\n",
       "0          sistemas@fese.org.mx  CIUDAD DE México   \n",
       "1          co488798@uaeh.edu.mx           Hidalgo   \n",
       "2  prodriguezmendiola@gmail.com          Veracruz   \n",
       "3        tonyrito.lol@gmail.com         Chihuahua   \n",
       "4        vianeyblas33@gmail.com            Oaxaca   \n",
       "\n",
       "                                         description          lst_access  \n",
       "0                                                    2023-10-05 19:20:58  \n",
       "1  MX - UAEH - Universidad Autónoma del Estado de... 2023-02-10 22:55:09  \n",
       "2  MX - UPAV - Universidad Popular Autónoma de Ve... 2023-12-01 02:07:28  \n",
       "3  MX - UACJ - Universidad Autónoma de Ciudad Juárez 2023-02-11 03:24:49  \n",
       "4                   MX - Universidad La Salle Oaxaca 2023-02-17 16:48:25  "
      ]
     },
     "execution_count": 2,
     "metadata": {},
     "output_type": "execute_result"
    }
   ],
   "source": [
    "try:\n",
    "    # Establecer la conexión con la base de datos\n",
    "    cnx = mysql.connector.connect(user='fese', password='F3$e.20-21',\n",
    "                                  host='santandermoodle2022.cvxcmwgafwb2.us-east-2.rds.amazonaws.com',\n",
    "                                  database='bitnami_moodle')\n",
    "    cursor = cnx.cursor()\n",
    "    \n",
    "    # Definir la consulta SQL\n",
    "    query = \"SELECT mdl_user.id, username, firstname, lastname, email, city, description, \\\n",
    "            from_unixtime(timeaccess) as acceso FROM bitnami_moodle.mdl_user_lastaccess \\\n",
    "            left join mdl_user ON(mdl_user_lastaccess.userid=mdl_user.id) \\\n",
    "            where courseid=122;\"\n",
    "    \n",
    "    # Ejecutar la consulta\n",
    "    cursor.execute(query)\n",
    "    \n",
    "    # Convertir los resultados en un DataFrame de pandas\n",
    "    result_ingresos = pd.DataFrame(cursor.fetchall())\n",
    "    result_ingresos.columns = ['userId','username','firstname','lastname','email','city','description','lst_access']\n",
    "    \n",
    "    # Imprimir el número de usuarios que han ingresado al curso\n",
    "    print(\"Usuarios que han ingresado al curso: {}\".format(result_ingresos.shape))\n",
    "    \n",
    "    \n",
    "    \n",
    "except mysql.connector.Error as err:\n",
    "    # Manejo de errores de la conexión a la base de datos\n",
    "    if err.errno == errorcode.ER_ACCESS_DENIED_ERROR:\n",
    "        print(\"Algo está mal con tu nombre de usuario o contraseña\")\n",
    "    elif err.errno == errorcode.ER_BAD_DB_ERROR:\n",
    "        print(\"La base de datos no existe\")\n",
    "    else:\n",
    "        print(err)\n",
    "finally:\n",
    "    # Cerrar el cursor y la conexión a la base de datos\n",
    "    if 'cursor' in locals() and cursor:\n",
    "        cursor.close()\n",
    "    if 'cnx' in locals() and cnx:\n",
    "        cnx.close()\n",
    "        \n",
    "# Imprimir las primeras filas del DataFrame\n",
    "result_ingresos.head()"
   ]
  },
  {
   "cell_type": "code",
   "execution_count": 3,
   "metadata": {},
   "outputs": [
    {
     "name": "stdout",
     "output_type": "stream",
     "text": [
      "Estudiantes en consolidado: 4283\n",
      "Estudiantes en actualización: 4282\n",
      "Nuevos estudiantes por agregar: 20\n"
     ]
    }
   ],
   "source": [
    "# Lectura de archivos fuente\n",
    "file_update = \"update_211223.xlsx\"  # Nombre del archivo de actualización\n",
    "\n",
    "# Leer el archivo consolidado desde un archivo CSV\n",
    "consolidado = pd.read_csv(\"consolidado.csv\")\n",
    "\n",
    "# Leer el archivo de actualización desde un archivo Excel\n",
    "# Asegúrate de que el archivo y la pestaña 'data' existen en la ruta especificada\n",
    "# El parámetro header=0 indica que la primera fila (fila 0 en la indexación basada en cero) se debe usar como nombre de las columnas\n",
    "update_file = pd.read_excel(f'actualizaciones/{file_update}', sheet_name='data', header=0)\n",
    "\n",
    "# Eliminar los espacios sobrantes al principio y al final en todas las columnas\n",
    "update_file = update_file.applymap(lambda x: x.strip() if isinstance(x, str) else x)\n",
    "\n",
    "# Directorio de salida\n",
    "path_gen = \"output/\"  # Ruta del directorio de salida\n",
    "\n",
    "# Obtener la fecha de hoy en formato de cadena\n",
    "date_today = str(date.today())\n",
    "\n",
    "# Preparar los nombres de los archivos de salida\n",
    "# Estos archivos se guardarán en la carpeta 'output' con la fecha de hoy en sus nombres\n",
    "file_output_csv = f'{path_gen}mailchimpTest-{date_today}.csv'  # Archivo de salida para Mailchimp\n",
    "file_upload_users_csv = f'{path_gen}altasTest-{date_today}.csv'  # Archivo de salida para las altas de usuarios\n",
    "# Imprimir el número de estudiantes en el archivo consolidado\n",
    "# La función shape[0] devuelve el número de filas en el DataFrame, que corresponde al número de estudiantes\n",
    "print(f\"Estudiantes en consolidado: {consolidado.shape[0]}\")\n",
    "\n",
    "# Imprimir el número de estudiantes en el archivo de actualización\n",
    "print(f\"Estudiantes en actualización: {update_file.shape[0]}\")\n",
    "\n",
    "# Identificar los nuevos registros en el archivo de actualización\n",
    "# Esto se hace buscando los emails en el archivo de actualización que no están en el archivo consolidado\n",
    "nuevos_registros = update_file[~update_file[\"email\"].isin(consolidado[\"username\"])]\n",
    "\n",
    "# Imprimir el número de nuevos estudiantes por agregar\n",
    "print(f\"Nuevos estudiantes por agregar: {nuevos_registros.shape[0]}\")\n",
    "# Imprimir los nombres de las columnas en el DataFrame de actualización\n"
   ]
  },
  {
   "cell_type": "code",
   "execution_count": 4,
   "metadata": {},
   "outputs": [
    {
     "name": "stdout",
     "output_type": "stream",
     "text": [
      "Archivo de salida: 20\n"
     ]
    }
   ],
   "source": [
    "# Seleccionamos las columnas necesarias de los nuevos registros\n",
    "df_columnas = nuevos_registros[[\"Terms Apply Request Date\", \"email\",\"name\", \"lastName\", \"email\",\\\n",
    "                                \"university\",\"phone\", \"otherUniversity\", \"Selecciona tu entidad federativa\",\\\n",
    "                               \"Número de matricula\",\"sex\",\"Nombre completo de tu carrera\",\\\n",
    "                                \"Periodo que cursa actualmente Semestre/Cuatrimestre/Trimestre \",\\\n",
    "                                \"Selecciona tu perfil\",\"¿Cómo te enteraste de esta convocatoria?\",\"dniPassport\",\\\n",
    "                               \"Selecciona el área a la que se vinculan tus estudios actuales o más recientes\"]]\n",
    "\n",
    "# Renombramos las columnas para que coincidan con el formato de Moodle\n",
    "df_columnas.columns = [\"Date\", \"username\",\"name\",\"lastName\",\"email\",\"university\",\"phone\",\"otherUniversity\",\"Entidad\",\\\n",
    "                      \"matricula\",\"sexo\",\"carrera\",\"periodo\",\"perfil\",\"medio\",\"dni\",\"area_conocimiento\"]\n",
    "\n",
    "# Insertamos nuevas columnas con datos predefinidos\n",
    "df_columnas.insert(2, \"password\", \"SsC$2023\", allow_duplicates=False)  # Contraseña predefinida\n",
    "df_columnas.insert(6, \"course1\", \"SSC2023\", allow_duplicates=False)  # Curso predefinido\n",
    "df_columnas.insert(11, \"open_mail\", \"No\", allow_duplicates=False)  # Configuración de correo electrónico predefinida\n",
    "\n",
    "# Imprimimos el número de filas en el DataFrame de salida, que corresponde al número de estudiantes\n",
    "print(f\"Archivo de salida: {df_columnas.shape[0]}\")\n"
   ]
  },
  {
   "cell_type": "code",
   "execution_count": 5,
   "metadata": {},
   "outputs": [],
   "source": [
    "# Creamos un diccionario vacío para almacenar las universidades\n",
    "universidad = {}\n",
    "\n",
    "# Recorremos el DataFrame fila por fila\n",
    "#for i in range(len(df_columnas)):\n",
    "    # Si la columna 'university' está vacía\n",
    "#    if pd.isna(df_columnas.iloc[i]['university']):\n",
    "#        # Asignamos el valor de 'otherUniversity' a la columna 'university'\n",
    "#        df_columnas.at[df_columnas.index[i],'university'] = df_columnas.iloc[i]['otherUniversity']\n",
    "# Si la columna 'university' está vacía, asignamos el valor de 'otherUniversity' a la columna 'university'\n",
    "#df_columnas['university'] = df_columnas.apply(lambda row: row['otherUniversity'] if pd.isna(row['university']) else row['university'], axis=1)\n",
    "df_columnas.loc[pd.isna(df_columnas['university']), 'university'] = df_columnas.loc[pd.isna(df_columnas['university']), 'otherUniversity']# Eliminamos la columna 'otherUniversity' ya que no es necesaria\n",
    "del(df_columnas['otherUniversity'])"
   ]
  },
  {
   "cell_type": "code",
   "execution_count": 6,
   "metadata": {
    "scrolled": false
   },
   "outputs": [
    {
     "name": "stdout",
     "output_type": "stream",
     "text": [
      "consolidado: 4283\n",
      "df_usuarios_mailchimp_ingreso: 3129\n",
      "df_usuarios_mailchimp_sin_ingreso: 1154\n",
      "df_usuarios_ingreso_sistema: 3158\n",
      "Shape of final_dataframe: (4303, 19)\n",
      "Shape of df_mailchimp: (4303, 19)\n"
     ]
    }
   ],
   "source": [
    "# Crear un DataFrame con los usuarios de Mailchimp que han ingresado\n",
    "df_usuarios_mailchimp_ingreso = consolidado[consolidado['email'].isin(result_ingresos['email'])].copy()\n",
    "\n",
    "# Crear un DataFrame con los usuarios de Mailchimp que no han ingresado\n",
    "df_usuarios_mailchimp_sin_ingreso = consolidado[~consolidado['email'].isin(result_ingresos['email'])].copy()\n",
    "\n",
    "# Crear un DataFrame con los usuarios que han ingresado al sistema\n",
    "df_usuarios_ingreso_sistema = result_ingresos.copy()\n",
    "\n",
    "# Guardar el DataFrame de usuarios que han ingresado al sistema en un archivo CSV\n",
    "df_usuarios_ingreso_sistema.to_csv(\"ingreso.csv\", index = False)\n",
    "\n",
    "# Imprimir el número de filas (usuarios) en cada DataFrame\n",
    "print(f\"consolidado: {consolidado.shape[0]}\")\n",
    "print(f\"df_usuarios_mailchimp_ingreso: {df_usuarios_mailchimp_ingreso.shape[0]}\")\n",
    "print(f\"df_usuarios_mailchimp_sin_ingreso: {df_usuarios_mailchimp_sin_ingreso.shape[0]}\")\n",
    "print(f\"df_usuarios_ingreso_sistema: {df_usuarios_ingreso_sistema.shape[0]}\")\n",
    "\n",
    "# Añadir una nueva columna 'open_mail' al DataFrame de usuarios de Mailchimp que han ingresado, con todos los valores establecidos en \"Sí\"\n",
    "df_usuarios_mailchimp_ingreso.loc[:, 'open_mail'] = \"Sí\"\n",
    "\n",
    "# Concatenar los DataFrames 'consolidado' y 'df_columnas', eliminar los duplicados basándose en la columna 'email' y reiniciar el índice\n",
    "final_dataframe = pd.concat([consolidado, df_columnas]).drop_duplicates(subset='email', keep='last').reset_index(drop=True)\n",
    "\n",
    "# Concatenar los DataFrames 'df_columnas', 'df_usuarios_mailchimp_sin_ingreso' y 'df_usuarios_mailchimp_ingreso', eliminar los duplicados basándose en la columna 'email' y reiniciar el índice\n",
    "df_mailchimp = pd.concat([df_columnas, df_usuarios_mailchimp_sin_ingreso, df_usuarios_mailchimp_ingreso]).drop_duplicates(subset='email', keep='last').reset_index(drop=True)\n",
    "\n",
    "# Imprimir el número de filas y columnas en cada DataFrame\n",
    "print(f\"Shape of final_dataframe: {final_dataframe.shape}\")\n",
    "print(f\"Shape of df_mailchimp: {df_mailchimp.shape}\")\n",
    "\n",
    "# Eliminar columnas innecesarias\n",
    "df_mailchimp.drop(['Date', 'sexo', 'carrera', 'periodo', 'perfil', 'medio', 'dni', 'matricula', 'area_conocimiento'], axis=1, inplace=True)\n",
    "\n",
    "# Renombrar columnas\n",
    "df_mailchimp.columns = [\"email\",\"password\",\"firstname\",\"lastName\",\"usuario\",\"curso\",\"IES\",\"phone\",\"Entidad\",\"Correoabierto\"]"
   ]
  },
  {
   "cell_type": "code",
   "execution_count": 7,
   "metadata": {},
   "outputs": [
    {
     "name": "stdout",
     "output_type": "stream",
     "text": [
      "Archivo Mailchimp generado output/mailchimpTest-2023-12-19.csv\n",
      "Archivo Update  generado output/mailchimpTest-2023-12-19.csv\n",
      "(20, 17)\n"
     ]
    }
   ],
   "source": [
    "# Generación del archivo consolidado\n",
    "final_dataframe.to_csv('consolidado.csv', index=False)\n",
    "\n",
    "# Generación del archivo Mailchimp\n",
    "df_mailchimp.to_csv(file_output_csv, index=False)\n",
    "print(\"Archivo Mailchimp generado\", file_output_csv)\n",
    "\n",
    "# Crear una copia del DataFrame 'df_columnas'\n",
    "df_columnas_copy = df_columnas.copy()\n",
    "\n",
    "# Borrado de columnas\n",
    "df_columnas_copy.drop(['Date', 'open_mail'], axis=1, inplace=True)\n",
    "\n",
    "# Renombrar columnas\n",
    "df_columnas_copy.columns = ['username', 'password', 'firstname', 'lastName', 'email', 'course1',\\\n",
    "                       'description','phone1','city','skype','yahoo','address','icq','msn',\\\n",
    "                       'url','idnumber','department']\n",
    "\n",
    "# Escritura_archivo_salida\n",
    "df_columnas_copy.to_csv(file_upload_users_csv, index=False)\n",
    "print(\"Archivo Update  generado\", file_output_csv)\n",
    "\n",
    "# Imprimir la forma del DataFrame\n",
    "print(df_columnas_copy.shape)"
   ]
  }
 ],
 "metadata": {
  "kernelspec": {
   "display_name": "Python 3 (ipykernel)",
   "language": "python",
   "name": "python3"
  },
  "language_info": {
   "codemirror_mode": {
    "name": "ipython",
    "version": 3
   },
   "file_extension": ".py",
   "mimetype": "text/x-python",
   "name": "python",
   "nbconvert_exporter": "python",
   "pygments_lexer": "ipython3",
   "version": "3.11.5"
  }
 },
 "nbformat": 4,
 "nbformat_minor": 4
}
